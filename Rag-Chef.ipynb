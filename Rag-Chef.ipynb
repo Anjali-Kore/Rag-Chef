{
 "cells": [
  {
   "cell_type": "code",
   "execution_count": 1,
   "id": "1d52e469-eec9-4f57-9aeb-8a55e092ed0a",
   "metadata": {},
   "outputs": [
    {
     "name": "stderr",
     "output_type": "stream",
     "text": [
      "C:\\Users\\Johin\\anaconda3\\Lib\\site-packages\\deeplake\\util\\check_latest_version.py:32: UserWarning: A newer version of deeplake (4.1.6) is available. It's recommended that you update to the latest version using `pip install -U deeplake`.\n",
      "  warnings.warn(\n"
     ]
    }
   ],
   "source": [
    "import langchain_community\n",
    "import os\n",
    "from langchain_community.embeddings.spacy_embeddings import SpacyEmbeddings\n",
    "from langchain.document_loaders import CSVLoader\n",
    "from langchain_community.vectorstores import DeepLake\n",
    "from langchain.chains import RetrievalQA\n",
    "from langchain.chains.combine_documents import create_stuff_documents_chain\n",
    "from langchain.chains import create_retrieval_chain\n",
    "from langchain.prompts import ChatPromptTemplate\n",
    "from langchain_text_splitters import CharacterTextSplitter\n",
    "from langchain_nvidia_ai_endpoints import ChatNVIDIA\n"
   ]
  },
  {
   "cell_type": "code",
   "execution_count": 2,
   "id": "7ca6220e-e7ce-4b15-be8b-eacbe9b3b24b",
   "metadata": {},
   "outputs": [],
   "source": [
    "os.environ[\"NVIDIA_API_KEY\"] = \"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\""
   ]
  },
  {
   "cell_type": "code",
   "execution_count": 3,
   "id": "2169b5ac-fafd-4db5-9ffc-f6571ed4da2e",
   "metadata": {},
   "outputs": [],
   "source": [
    "loader = CSVLoader(file_path='recipes_data.csv',encoding = 'utf-8',\n",
    "    csv_args={\n",
    "    'delimiter': ',',\n",
    "    'quotechar': '\"',\n",
    "    'fieldnames': ['directions', 'NER', 'source','ingredients','link','site'],\n",
    "})"
   ]
  },
  {
   "cell_type": "code",
   "execution_count": null,
   "id": "77ebaca8-5fd6-45f4-a6af-708cfe09cc63",
   "metadata": {},
   "outputs": [],
   "source": [
    "documents = loader.load()\n",
    "text_splitter = CharacterTextSplitter(chunk_size=5000, chunk_overlap=500)\n",
    "docs = text_splitter.split_documents(documents)"
   ]
  },
  {
   "cell_type": "code",
   "execution_count": 4,
   "id": "df772b16-688a-42d9-9743-fb25a277e9b7",
   "metadata": {},
   "outputs": [],
   "source": [
    "embeddings = SpacyEmbeddings(model_name=\"en_core_web_sm\")"
   ]
  },
  {
   "cell_type": "code",
   "execution_count": 5,
   "id": "d3a8cfb8-f2af-4a3d-a7e2-0eb3e92a6c4b",
   "metadata": {},
   "outputs": [],
   "source": [
    "llm = ChatNVIDIA(model=\"nvidia/llama-3.1-nemotron-51b-instruct\")"
   ]
  },
  {
   "cell_type": "code",
   "execution_count": 6,
   "id": "7fb42a08-dd90-48b7-b481-a9f66bee2727",
   "metadata": {
    "scrolled": true
   },
   "outputs": [
    {
     "name": "stdout",
     "output_type": "stream",
     "text": [
      "Deep Lake Dataset in ./my_deeplake/ already exists, loading from the storage\n"
     ]
    }
   ],
   "source": [
    "db = DeepLake(dataset_path=\"./my_deeplake/\", embedding=embeddings, read_only = True)\n",
    "# db.add_documents(docs)"
   ]
  },
  {
   "cell_type": "code",
   "execution_count": 7,
   "id": "3aa7b487-90e0-45ed-ab6f-5ce4f5097c77",
   "metadata": {},
   "outputs": [],
   "source": []
  },
  {
   "cell_type": "code",
   "execution_count": 23,
   "id": "cb50ef1f-23c6-47b7-8959-70385e77945f",
   "metadata": {},
   "outputs": [],
   "source": [
    "system_prompt = (\n",
    "    \"You are an assistant that provides recipes based on available ingredients and desired cuisine. \"\n",
    "    \"Use the following pieces of retrieved context to answer the question. If you don't know the answer, say that you don't know.\\n\\n\"\n",
    "    \"{context}\"\n",
    ")\n",
    "\n",
    "prompt = ChatPromptTemplate.from_messages([\n",
    "    (\"system\", system_prompt),\n",
    "    (\"human\", \"{question}\")\n",
    "])"
   ]
  },
  {
   "cell_type": "code",
   "execution_count": 24,
   "id": "17305d02-4f9a-4979-ab37-59696bb5fb0f",
   "metadata": {},
   "outputs": [],
   "source": [
    "qa = RetrievalQA.from_chain_type(\n",
    "    llm=llm,\n",
    "    chain_type=\"stuff\",\n",
    "    retriever=db.as_retriever(),\n",
    "    chain_type_kwargs={\"prompt\": prompt},\n",
    "    input_key=\"question\"\n",
    ")\n"
   ]
  },
  {
   "cell_type": "code",
   "execution_count": 27,
   "id": "d8c5e9d6-798e-4e9d-acca-0392bd6427d0",
   "metadata": {},
   "outputs": [],
   "source": [
    "def find_recipes(ingredients, cuisine):\n",
    "    input_question = f\"Find me a recipe using these ingredients: {ingredients} with cuisine type: {cuisine}.\"\n",
    "    answer = qa.invoke({\"question\": input_question})\n",
    "    return answer['result']"
   ]
  },
  {
   "cell_type": "code",
   "execution_count": 28,
   "id": "d7e99134-6214-46fd-927e-545947dda78e",
   "metadata": {},
   "outputs": [
    {
     "name": "stdout",
     "output_type": "stream",
     "text": [
      "Based on the ingredients you provided, I found a classic Italian dish that fits your request. Here is a recipe for Pan-Seared Chicken with Tomato and Garlic, also known as \"Pollo alla Cacciatora\":\n",
      "\n",
      "**Ingredients:**\n",
      "\n",
      "* 4 boneless, skinless chicken breasts, cut into 1-inch pieces\n",
      "* 2 large tomatoes, diced (or 1 can of diced tomatoes)\n",
      "* 3 cloves of garlic, minced\n",
      "* 1 tablespoon of olive oil\n",
      "* Salt and pepper to taste\n",
      "* 1 teaspoon of dried oregano\n",
      "* 1/4 cup of white wine (optional)\n",
      "\n",
      "**Instructions:**\n",
      "\n",
      "1. Heat the olive oil in a large skillet over medium-high heat. Add the chicken and cook until browned on all sides, about 5-7 minutes. Remove the chicken from the skillet and set aside.\n",
      "2. Add the minced garlic to the skillet and cook for 1-2 minutes, until fragrant.\n",
      "3. Add the diced tomatoes to the skillet and cook for 5-7 minutes, until they start to break down and release their juices.\n",
      "4. Add the chicken back to the skillet and stir in the cooked tomatoes and garlic.\n",
      "5. Season with salt, pepper, and dried oregano to taste.\n",
      "6. If using white wine, add it to the skillet and simmer for an additional 2-3 minutes, until the sauce has thickened slightly.\n",
      "7. Serve the chicken with the tomato-garlic sauce spooned over the top.\n",
      "\n",
      "**Tips and Variations:**\n",
      "\n",
      "* Use fresh, flavorful tomatoes for the best results.\n",
      "* You can also add some chopped bell peppers, onions, or mushrooms to the skillet with the garlic for added flavor and nutrients.\n",
      "* For a creamier sauce, you can add a tablespoon of heavy cream or sour cream to the skillet with the tomato-garlic mixture.\n",
      "* This dish is often served with parsley and lemon wedges, so feel free to garnish with these extra touches.\n",
      "\n",
      "Enjoy your delicious and authentic Italian-inspired dish!\n"
     ]
    }
   ],
   "source": [
    "ingredients_input = \"chicken, tomatoes, garlic\"\n",
    "cuisine_input = \"Italian\"\n",
    "recipe_response = find_recipes(ingredients_input, cuisine_input)\n",
    "print(recipe_response)"
   ]
  },
  {
   "cell_type": "code",
   "execution_count": null,
   "id": "794b7467-ca01-40a0-af24-cd18e48e0357",
   "metadata": {},
   "outputs": [],
   "source": []
  },
  {
   "cell_type": "code",
   "execution_count": null,
   "id": "382babe5-8c40-4492-a054-435419604ecc",
   "metadata": {},
   "outputs": [],
   "source": []
  }
 ],
 "metadata": {
  "kernelspec": {
   "display_name": "Python 3 (ipykernel)",
   "language": "python",
   "name": "python3"
  },
  "language_info": {
   "codemirror_mode": {
    "name": "ipython",
    "version": 3
   },
   "file_extension": ".py",
   "mimetype": "text/x-python",
   "name": "python",
   "nbconvert_exporter": "python",
   "pygments_lexer": "ipython3",
   "version": "3.11.9"
  }
 },
 "nbformat": 4,
 "nbformat_minor": 5
}
